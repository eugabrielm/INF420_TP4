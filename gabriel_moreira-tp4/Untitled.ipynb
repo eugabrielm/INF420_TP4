{
 "cells": [
  {
   "cell_type": "markdown",
   "id": "40eb80af-9299-4e7d-9515-f566e2b075e2",
   "metadata": {},
   "source": [
    "# INF 420 - Inteligência Artificial I\n",
    "\n",
    "### Universidade Federal de Viçosa\n",
    "\n",
    "### 1º Semestre de 2024\n",
    "\n",
    "### Professor: Julio Cesar Soares dos Reis\n",
    "\n",
    "#### Trabalho Prático 4 - Aprendizagem de Máquina\n",
    "#### Aluno : Gabriel Moreira Marques \n",
    "#### Matricula: 108207\n"
   ]
  },
  {
   "cell_type": "markdown",
   "id": "48b608ea-7acc-4294-bfe0-9b91a47b84fe",
   "metadata": {},
   "source": [
    "### Importando Bibliotecas Necessárias\n"
   ]
  },
  {
   "cell_type": "code",
   "execution_count": 10,
   "id": "7fcffd4e-7806-49d3-a899-3b05b2c8b996",
   "metadata": {},
   "outputs": [],
   "source": [
    "import pandas as pd\n",
    "import numpy as np\n",
    "import matplotlib.pyplot as plt\n",
    "from sklearn.model_selection import train_test_split, cross_val_score\n",
    "from sklearn.naive_bayes import GaussianNB\n",
    "from sklearn.tree import DecisionTreeClassifier\n",
    "from sklearn.svm import SVC\n",
    "from sklearn.neighbors import KNeighborsClassifier\n",
    "from sklearn.ensemble import RandomForestClassifier, GradientBoostingClassifier\n",
    "from sklearn.neural_network import MLPClassifier\n",
    "from sklearn.metrics import accuracy_score, confusion_matrix, classification_report\n"
   ]
  },
  {
   "cell_type": "markdown",
   "id": "9b1787dc-fb14-4dea-ab7b-f57c28f93fd4",
   "metadata": {},
   "source": [
    "### Carregando o data-set"
   ]
  },
  {
   "cell_type": "code",
   "execution_count": null,
   "id": "5e2104e9-5b8e-4a99-a21d-e15211ef85cb",
   "metadata": {},
   "outputs": [],
   "source": [
    "\n",
    "df = pd.read_csv(\"koi_data.csv\")\n"
   ]
  }
 ],
 "metadata": {
  "kernelspec": {
   "display_name": "Python 3 (ipykernel)",
   "language": "python",
   "name": "python3"
  },
  "language_info": {
   "codemirror_mode": {
    "name": "ipython",
    "version": 3
   },
   "file_extension": ".py",
   "mimetype": "text/x-python",
   "name": "python",
   "nbconvert_exporter": "python",
   "pygments_lexer": "ipython3",
   "version": "3.12.4"
  }
 },
 "nbformat": 4,
 "nbformat_minor": 5
}
