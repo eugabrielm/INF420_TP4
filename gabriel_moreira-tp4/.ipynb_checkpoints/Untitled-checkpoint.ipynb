{
 "cells": [
  {
   "cell_type": "markdown",
   "id": "c395f4be-3774-4dce-9234-d268f3ae13b3",
   "metadata": {},
   "source": [
    "# INF 420 - Inteligência Artificial I\n",
    "\r\n",
    "## Universidade Federal de Viçoa\n",
    "#\n",
    "### 1º Semestre de 2\n",
    "2#\r",
    "##\n",
    "# Professor: Julio Cesar Soares dos Res#\r",
    "####\n",
    "\r\n",
    "# Trabalho Prático 4 - Aprendizagem de ina\n",
    "Máqu# Aluno : \r\n",
    "\r",
    "*NGabriel Moreira Marues \n",
    "#\n",
    "#### Matricula: 1Nome]\r\n"
   ]
  },
  {
   "cell_type": "code",
   "execution_count": 22,
   "id": "7fb2a1e3-227c-45fe-9b3a-21e2dbb4c742",
   "metadata": {},
   "outputs": [],
   "source": [
    "## Importando Bibliotecas Necessárias\n",
    "\n",
    "import pandas as pd\n",
    "import numpy as np\n",
    "import matplotlib.pyplot as plt\n",
    "from sklearn.model_selection import train_test_split, cross_val_score\n",
    "from sklearn.naive_bayes import GaussianNB\n",
    "from sklearn.tree import DecisionTreeClassifier\n",
    "from sklearn.svm import SVC\n",
    "from sklearn.neighbors import KNeighborsClassifier\n",
    "from sklearn.ensemble import RandomForestClassifier, GradientBoostingClassifier\n",
    "from sklearn.neural_network import MLPClassifier\n",
    "from sklearn.metrics import accuracy_score, confusion_matrix, classification_report\n"
   ]
  },
  {
   "cell_type": "code",
   "execution_count": null,
   "id": "6935190b-cc07-4daa-af58-5ed45ed587ee",
   "metadata": {},
   "outputs": [],
   "source": []
  }
 ],
 "metadata": {
  "kernelspec": {
   "display_name": "Python 3 (ipykernel)",
   "language": "python",
   "name": "python3"
  },
  "language_info": {
   "codemirror_mode": {
    "name": "ipython",
    "version": 3
   },
   "file_extension": ".py",
   "mimetype": "text/x-python",
   "name": "python",
   "nbconvert_exporter": "python",
   "pygments_lexer": "ipython3",
   "version": "3.12.4"
  }
 },
 "nbformat": 4,
 "nbformat_minor": 5
}
